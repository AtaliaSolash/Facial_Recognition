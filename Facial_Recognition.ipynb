{
 "metadata": {
  "colab": {
   "provenance": [],
   "gpuType": "T4"
  },
  "kernelspec": {
   "name": "python3",
   "display_name": "Python 3",
   "language": "python"
  },
  "language_info": {
   "name": "python",
   "version": "3.10.13",
   "mimetype": "text/x-python",
   "codemirror_mode": {
    "name": "ipython",
    "version": 3
   },
   "pygments_lexer": "ipython3",
   "nbconvert_exporter": "python",
   "file_extension": ".py"
  },
  "accelerator": "GPU",
  "kaggle": {
   "accelerator": "nvidiaTeslaT4",
   "dataSources": [
    {
     "sourceId": 7658946,
     "sourceType": "datasetVersion",
     "datasetId": 4465620
    }
   ],
   "dockerImageVersionId": 30648,
   "isInternetEnabled": true,
   "language": "python",
   "sourceType": "notebook",
   "isGpuEnabled": true
  }
 },
 "nbformat_minor": 0,
 "nbformat": 4,
 "cells": [
  {
   "cell_type": "code",
   "source": [
    "import pandas as pd\n",
    "import torch\n",
    "from sklearn.model_selection import train_test_split\n",
    "from torch.utils.data import Dataset, DataLoader\n",
    "import os\n",
    "from PIL import Image\n",
    "from torch import nn, device\n",
    "from torch.nn import functional as F\n",
    "import zipfile\n",
    "from torchvision import transforms\n",
    "import csv\n",
    "import itertools\n",
    "import time\n",
    "import matplotlib.pyplot as plt\n",
    "import seaborn as sns\n",
    "import matplotlib.image as mpimg\n",
    "import matplotlib.pyplot as plt\n",
    "import cv2\n"
   ],
   "metadata": {
    "id": "hIA9yADwRFsP",
    "execution": {
     "iopub.status.busy": "2024-02-19T20:51:59.448587Z",
     "iopub.execute_input": "2024-02-19T20:51:59.449041Z",
     "iopub.status.idle": "2024-02-19T20:52:06.775814Z",
     "shell.execute_reply.started": "2024-02-19T20:51:59.449011Z",
     "shell.execute_reply": "2024-02-19T20:52:06.774832Z"
    },
    "trusted": true
   },
   "execution_count": null,
   "outputs": []
  },
  {
   "cell_type": "code",
   "source": [
    "!rm -rf /kaggle/working/*"
   ],
   "metadata": {
    "execution": {
     "iopub.status.busy": "2024-02-19T20:52:17.883965Z",
     "iopub.execute_input": "2024-02-19T20:52:17.884998Z",
     "iopub.status.idle": "2024-02-19T20:52:18.885830Z",
     "shell.execute_reply.started": "2024-02-19T20:52:17.884966Z",
     "shell.execute_reply": "2024-02-19T20:52:18.884452Z"
    },
    "trusted": true,
    "id": "l5-h0D5aou77"
   },
   "execution_count": null,
   "outputs": []
  },
  {
   "cell_type": "code",
   "source": [
    "device = torch.device(\"cuda\" if torch.cuda.is_available() else \"cpu\")\n",
    "print(f\"Using {device} device\")"
   ],
   "metadata": {
    "colab": {
     "base_uri": "https://localhost:8080/"
    },
    "id": "F0CCVyuAgzhJ",
    "outputId": "089fc16d-cb12-401d-8b42-223af86bd604",
    "execution": {
     "iopub.status.busy": "2024-02-19T20:52:20.846319Z",
     "iopub.execute_input": "2024-02-19T20:52:20.846704Z",
     "iopub.status.idle": "2024-02-19T20:52:20.908447Z",
     "shell.execute_reply.started": "2024-02-19T20:52:20.846668Z",
     "shell.execute_reply": "2024-02-19T20:52:20.907422Z"
    },
    "trusted": true
   },
   "execution_count": null,
   "outputs": [
    {
     "name": "stdout",
     "text": "Using cuda device\n",
     "output_type": "stream"
    }
   ]
  },
  {
   "cell_type": "code",
   "source": [
    "def create_image_df(base_dir, text_file_path):\n",
    "    with open(text_file_path, 'r') as file:   # Read lines from the text file\n",
    "        lines = file.readlines()\n",
    "\n",
    "    # Initialize lists to store image file paths and labels\n",
    "    image_i = []\n",
    "    image_ii = []\n",
    "    labels = []\n",
    "    for line in lines:  # Iterate through each line in the text file\n",
    "        parts = line.strip().split()\n",
    "        if len(parts) == 4:  # Two different people\n",
    "            name1, img1, name2, img2 = parts\n",
    "            label = 0\n",
    "        elif len(parts) == 3:  # Same person\n",
    "            name1, img1, img2 = parts\n",
    "            name2 = name1\n",
    "            label = 1\n",
    "        else:\n",
    "            continue  # Skip lines with incorrect format\n",
    "\n",
    "        # Construct the paths to the image files\n",
    "        zeros_1 = '0' * (4 - len(img1))\n",
    "        img1_path = os.path.join(base_dir, name1, f\"{name1}_{zeros_1}{img1}.jpg\")\n",
    "        zeros_2 = '0' * (4 - len(img2))\n",
    "        img2_path = os.path.join(base_dir, name2, f\"{name2}_{zeros_2}{img2}.jpg\")\n",
    "\n",
    "        image_i.append(img1_path) # Append image file paths and label to the lists\n",
    "        image_ii.append(img2_path)\n",
    "        labels.append(label)\n",
    "\n",
    "    # Create the DataFrame\n",
    "    df = pd.DataFrame({'image1': image_i,'image2': image_ii,'label': labels })\n",
    "    return df\n"
   ],
   "metadata": {
    "id": "uNM5uCe2ReM5",
    "execution": {
     "iopub.status.busy": "2024-02-19T20:52:26.027764Z",
     "iopub.execute_input": "2024-02-19T20:52:26.028200Z",
     "iopub.status.idle": "2024-02-19T20:52:26.037960Z",
     "shell.execute_reply.started": "2024-02-19T20:52:26.028172Z",
     "shell.execute_reply": "2024-02-19T20:52:26.036746Z"
    },
    "trusted": true
   },
   "execution_count": null,
   "outputs": []
  },
  {
   "cell_type": "code",
   "source": [
    "class MyDataset(Dataset):\n",
    "    def __init__(self, df, transform=None):\n",
    "        self.df = df\n",
    "        self.transform = transform if transform is not None else transforms.Compose([\n",
    "            transforms.Resize((105, 105)),\n",
    "            transforms.Grayscale(num_output_channels=1),\n",
    "            transforms.ToTensor()\n",
    "        ])\n",
    "    def __len__(self):\n",
    "        return len(self.df)\n",
    "\n",
    "    def __getitem__(self, idx):          # Retrieve paths to the images and their label from the DataFrame\n",
    "        # Open and apply transformations to the images\n",
    "        img1_path = self.df.iloc[idx]['image1']\n",
    "        img1 = Image.open(img1_path)\n",
    "        img1 = self.transform(img1)\n",
    "        img2_path = self.df.iloc[idx]['image2']\n",
    "        img2 = Image.open(img2_path)\n",
    "        img2 = self.transform(img2)\n",
    "        label = torch.tensor(self.df.iloc[idx]['label'])\n",
    "        label = label.clone().detach().to(torch.float32)\n",
    "        return img1, img2, label"
   ],
   "metadata": {
    "id": "zAju42JpSvgX",
    "execution": {
     "iopub.status.busy": "2024-02-19T20:59:00.952502Z",
     "iopub.execute_input": "2024-02-19T20:59:00.953239Z",
     "iopub.status.idle": "2024-02-19T20:59:00.961250Z",
     "shell.execute_reply.started": "2024-02-19T20:59:00.953206Z",
     "shell.execute_reply": "2024-02-19T20:59:00.960326Z"
    },
    "trusted": true
   },
   "execution_count": null,
   "outputs": []
  },
  {
   "cell_type": "code",
   "source": [
    "train_df = create_image_df('/kaggle/input/my-data/lfwa/lfw2/lfw2', '/kaggle/input/my-data/pairsDevTrain.txt')\n",
    "test_df = create_image_df('/kaggle/input/my-data/lfwa/lfw2/lfw2', '/kaggle/input/my-data/pairsDevTest.txt')\n",
    "train_df, val_df = train_test_split(train_df, test_size=0.2, random_state=42, stratify=train_df['label'])\n",
    "train_dataset = MyDataset(train_df)\n",
    "val_dataset = MyDataset(val_df)\n",
    "test_dataset = MyDataset(test_df)\n"
   ],
   "metadata": {
    "execution": {
     "iopub.status.busy": "2024-02-19T20:59:55.768526Z",
     "iopub.execute_input": "2024-02-19T20:59:55.769602Z",
     "iopub.status.idle": "2024-02-19T20:59:55.807569Z",
     "shell.execute_reply.started": "2024-02-19T20:59:55.769558Z",
     "shell.execute_reply": "2024-02-19T20:59:55.806685Z"
    },
    "trusted": true,
    "id": "R6yFH5Lqou7_"
   },
   "execution_count": null,
   "outputs": []
  },
  {
   "cell_type": "markdown",
   "source": [
    "# Analysis of the dataset"
   ],
   "metadata": {
    "id": "i-hLYstVou8A"
   }
  },
  {
   "cell_type": "code",
   "source": [
    "def add_bar_labels(ax):\n",
    "    for rect in ax.patches:\n",
    "        height = rect.get_height()\n",
    "        ax.text(rect.get_x() + rect.get_width() / 2, height, f'{int(height)}', ha='center', va='bottom')\n",
    "\n",
    "\n",
    "# Subplots\n",
    "fig, axes = plt.subplots(2, 2, figsize=(15, 15))\n",
    "\n",
    "# Sizes of train, validation, and test sets\n",
    "sns.barplot(x=['Train', 'Validation', 'Test'], y=[len(train_dataset), len(val_dataset), len(test_dataset)], ax=axes[0, 0])\n",
    "axes[0, 0].set_title('Size of Datasets')\n",
    "add_bar_labels(axes[0, 0])\n",
    "\n",
    "# Number of examples per class in train\n",
    "sns.barplot(x=train_df['label'].value_counts().index, y=train_df['label'].value_counts().values, ax=axes[0, 1])\n",
    "axes[0, 1].set_title('Number of Examples per Class in the Train data')\n",
    "add_bar_labels(axes[0, 1])\n",
    "\n",
    "# Plot number of examples per class in validation\n",
    "sns.barplot(x=val_df['label'].value_counts().index, y=val_df['label'].value_counts().values, ax=axes[1, 0])\n",
    "axes[1, 0].set_title('Number of Examples per Class in the Validation data')\n",
    "add_bar_labels(axes[1, 0])\n",
    "\n",
    "# Plot number of examples per class in test\n",
    "sns.barplot(x=test_df['label'].value_counts().index, y=test_df['label'].value_counts().values, ax=axes[1, 1])\n",
    "axes[1, 1].set_title('Number of Examples per Class in the Test data')\n",
    "add_bar_labels(axes[1, 1])\n",
    "\n",
    "plt.tight_layout()\n",
    "plt.show()"
   ],
   "metadata": {
    "execution": {
     "iopub.status.busy": "2024-02-19T20:59:57.724549Z",
     "iopub.execute_input": "2024-02-19T20:59:57.725209Z",
     "iopub.status.idle": "2024-02-19T20:59:58.564755Z",
     "shell.execute_reply.started": "2024-02-19T20:59:57.725176Z",
     "shell.execute_reply": "2024-02-19T20:59:58.563832Z"
    },
    "trusted": true,
    "id": "Se-ZFzLDou8D"
   },
   "execution_count": null,
   "outputs": []
  },
  {
   "cell_type": "code",
   "source": [
    "def display_images(image_paths, label):\n",
    "    fig, axes = plt.subplots(1, 2, figsize=(10, 5))\n",
    "    for i, path in enumerate(image_paths):     # Iterate over the image paths and display each image\n",
    "        image = mpimg.imread(path)\n",
    "        axes[i].imshow(image, cmap='gray')\n",
    "        axes[i].axis('off')\n",
    "    fig.suptitle(f\"Label: {label}\", fontsize=16)     # Set a title indicating the label\n",
    "    plt.show()\n",
    "\n",
    "# Examples with label 0\n",
    "for idx, row in train_df[train_df['label'] == 0].head(2).iterrows():\n",
    "    display_images([row['image1'], row['image2']], row['label'])\n",
    "\n",
    "# Examples with label 1\n",
    "for idx, row in train_df[train_df['label'] == 1].head(2).iterrows():\n",
    "    display_images([row['image1'], row['image2']], row['label'])\n"
   ],
   "metadata": {
    "execution": {
     "iopub.status.busy": "2024-02-19T21:00:01.625481Z",
     "iopub.execute_input": "2024-02-19T21:00:01.626490Z",
     "iopub.status.idle": "2024-02-19T21:00:02.434307Z",
     "shell.execute_reply.started": "2024-02-19T21:00:01.626449Z",
     "shell.execute_reply": "2024-02-19T21:00:02.433269Z"
    },
    "trusted": true,
    "id": "1iPflDSBou8E"
   },
   "execution_count": null,
   "outputs": []
  },
  {
   "cell_type": "code",
   "source": [
    "faces_dict = {}\n",
    "for index, row in test_df.iterrows():\n",
    "    image1 = row['image1'].split('/')[-1]\n",
    "    image2 = row['image2'].split('/')[-1]\n",
    "    name1 = image1[:-9]\n",
    "    name2 = image2[:-9]\n",
    "    if name1 not in faces_dict.keys():\n",
    "        faces_dict[name1] = []\n",
    "    if name2 not in faces_dict.keys():\n",
    "        faces_dict[name2] = []\n",
    "    faces_dict[name1].append(image1)\n",
    "    faces_dict[name2].append(image2)\n",
    "faces_dict= {key: len(value) for key, value in faces_dict.items()}\n",
    "num_photos = list(faces_dict.values())\n",
    "# Plotting histogram\n",
    "plt.hist(num_photos, bins=10, color='skyblue', edgecolor='black')\n",
    "\n",
    "plt.xlabel('Number of Photos')\n",
    "plt.ylabel('Frequency')\n",
    "plt.title('Distribution of Number of Photos per Person')\n",
    "plt.grid(True)\n",
    "\n",
    "plt.show()"
   ],
   "metadata": {
    "id": "62A6FimIBsZz"
   },
   "execution_count": null,
   "outputs": []
  },
  {
   "cell_type": "markdown",
   "source": [
    "creating the netwrok"
   ],
   "metadata": {
    "id": "BtQeR8GJou8F"
   }
  },
  {
   "cell_type": "code",
   "source": [
    "import torch.nn.functional as F\n",
    "\n",
    "class SiameseNetwork(nn.Module):\n",
    "    def __init__(self, use_batchnorm=False, use_dropout=False, dropout_prob=0.5):\n",
    "        \"\"\"\n",
    "        Initialize the Siamese Network.\n",
    "\n",
    "        Args:\n",
    "        use_batchnorm : Flag to indicate if to use batch normalization.\n",
    "        use_dropout : Flag to indicate if to use dropout.\n",
    "        dropout_prob : Dropout probability.\n",
    "        \"\"\"\n",
    "        super(SiameseNetwork, self).__init__()\n",
    "        self.use_batchnorm = use_batchnorm\n",
    "        self.use_dropout = use_dropout\n",
    "        self.dropout_prob = dropout_prob\n",
    "\n",
    "        # Convolutional layers\n",
    "        self.conv1 = nn.Conv2d(in_channels=1, out_channels=64, kernel_size=(10, 10), stride=(1, 1), padding='valid')\n",
    "        if self.use_batchnorm:\n",
    "            self.bn1 = nn.BatchNorm2d(64)\n",
    "        self.conv2 = nn.Conv2d(in_channels=64, out_channels=128, kernel_size=(7, 7), stride=(1, 1), padding='valid')\n",
    "        if self.use_batchnorm:\n",
    "            self.bn2 = nn.BatchNorm2d(128)\n",
    "        self.conv3 = nn.Conv2d(in_channels=128, out_channels=128, kernel_size=(4, 4), stride=(1, 1), padding='valid')\n",
    "        if self.use_batchnorm:\n",
    "            self.bn3 = nn.BatchNorm2d(128)\n",
    "        self.conv4 = nn.Conv2d(in_channels=128, out_channels=256, kernel_size=(4, 4), stride=(1, 1), padding='valid')\n",
    "        if self.use_batchnorm:\n",
    "            self.bn4 = nn.BatchNorm2d(256)\n",
    "\n",
    "        # Max pooling layer\n",
    "        self.maxpool = nn.MaxPool2d(kernel_size=(2, 2), stride=(2, 2))\n",
    "\n",
    "        # Fully connected layers\n",
    "        self.fc1 = nn.Linear(256 * 6 * 6, 4096)\n",
    "        if self.use_batchnorm:\n",
    "            self.bn_fc1 = nn.BatchNorm1d(4096)\n",
    "        if self.use_dropout:\n",
    "            self.dropout_fc1 = nn.Dropout(p=self.dropout_prob)\n",
    "        self.fc2 = nn.Linear(4096, 1)\n",
    "\n",
    "    def forward_single_image(self, x):\n",
    "        \"\"\"\n",
    "        Forward pass for a single image.\n",
    "\n",
    "        Args:\n",
    "        x (torch.Tensor): Input image tensor.\n",
    "\n",
    "        Returns:\n",
    "        torch.Tensor: Output tensor.\n",
    "        \"\"\"\n",
    "        x = F.relu(self.conv1(x))\n",
    "        if self.use_batchnorm:\n",
    "            x = self.bn1(x)\n",
    "        x = self.maxpool(x)\n",
    "\n",
    "        x = F.relu(self.conv2(x))\n",
    "        if self.use_batchnorm:\n",
    "            x = self.bn2(x)\n",
    "        x = self.maxpool(x)\n",
    "\n",
    "        x = F.relu(self.conv3(x))\n",
    "        if self.use_batchnorm:\n",
    "            x = self.bn3(x)\n",
    "        x = self.maxpool(x)\n",
    "\n",
    "        x = F.relu(self.conv4(x))\n",
    "        if self.use_batchnorm:\n",
    "            x = self.bn4(x)\n",
    "\n",
    "        # Flatten before fully connected layers\n",
    "        x = torch.flatten(x, start_dim=1)\n",
    "\n",
    "        x = torch.sigmoid(self.fc1(x))\n",
    "        if self.use_batchnorm:\n",
    "            x = self.bn_fc1(x)\n",
    "        if self.use_dropout:\n",
    "            x = self.dropout_fc1(x)\n",
    "        return x\n",
    "\n",
    "    def forward(self, x1, x2):\n",
    "        \"\"\"\n",
    "        Forward pass for the Siamese network.\n",
    "\n",
    "        Args:\n",
    "        x1 (torch.Tensor): Input tensor for image 1.\n",
    "        x2 (torch.Tensor): Input tensor for image 2.\n",
    "\n",
    "        Returns:\n",
    "        torch.Tensor: Output logits.\n",
    "        \"\"\"\n",
    "        img1 = self.forward_single_image(x1)\n",
    "        img2 = self.forward_single_image(x2)\n",
    "        L1_simanese_dist = torch.abs(img1 - img2)\n",
    "        logits = torch.sigmoid(self.fc2(L1_simanese_dist))\n",
    "        return logits\n"
   ],
   "metadata": {
    "id": "uw1MqQMVRiTT",
    "execution": {
     "iopub.status.busy": "2024-02-19T21:00:12.881340Z",
     "iopub.execute_input": "2024-02-19T21:00:12.882101Z",
     "iopub.status.idle": "2024-02-19T21:00:12.902860Z",
     "shell.execute_reply.started": "2024-02-19T21:00:12.882070Z",
     "shell.execute_reply": "2024-02-19T21:00:12.901740Z"
    },
    "trusted": true
   },
   "execution_count": null,
   "outputs": []
  },
  {
   "cell_type": "code",
   "source": [
    "##initialize weights and biases\n",
    "def init_w_and_b(m):\n",
    "  \"\"\"\n",
    "  Initializes the weights and biases of a neural network layer.\n",
    "  param m: The neural network module or layer to initialize.\n",
    "  \"\"\"\n",
    "\n",
    "  if type(m) == nn.Conv2d:\n",
    "    nn.init.normal_(m.weight, mean=0, std=0.01)\n",
    "    nn.init.normal_(m.bias, mean=0.5, std=0.01)"
   ],
   "metadata": {
    "id": "5gKTg3JvfcAS",
    "execution": {
     "iopub.status.busy": "2024-02-19T21:00:16.938740Z",
     "iopub.execute_input": "2024-02-19T21:00:16.939135Z",
     "iopub.status.idle": "2024-02-19T21:00:16.944912Z",
     "shell.execute_reply.started": "2024-02-19T21:00:16.939105Z",
     "shell.execute_reply": "2024-02-19T21:00:16.943789Z"
    },
    "trusted": true
   },
   "execution_count": null,
   "outputs": []
  },
  {
   "cell_type": "code",
   "source": [
    "def calculate_accuracy(model, dataloader, threshold=0.5):\n",
    "    \"\"\"\n",
    "    Calculate the accuracy of the model on a given dataloader.\n",
    "    model : The trained Siamese network model.\n",
    "    dataloader: DataLoader for the dataset.\n",
    "    threshold: The threshold to decide between classes.\n",
    "\n",
    "    Returns:\n",
    "    accuracy: The accuracy of the model on the dataset.\n",
    "    \"\"\"\n",
    "    model.eval()  # Set the model to evaluation mode\n",
    "    correct = 0\n",
    "    total = 0\n",
    "    with torch.no_grad():\n",
    "        for data in dataloader:\n",
    "            img1, img2, labels = data ## get items\n",
    "            img1, img2, labels = img1.to(device), img2.to(device), labels.to(device) ##save to device\n",
    "            outputs = model.forward(img1, img2)\n",
    "            predicted = (outputs > threshold).float() # binary predictions\n",
    "            total += labels.size(0)#all\n",
    "            current = predicted == labels\n",
    "            # Extracting the diagonal elements\n",
    "            diagonal = torch.diag(current)\n",
    "            # Counting True values\n",
    "            correct += diagonal.sum().item()\n",
    "\n",
    "    accuracy = correct / total\n",
    "    return accuracy"
   ],
   "metadata": {
    "id": "V4-uLuT4utcZ",
    "execution": {
     "iopub.status.busy": "2024-02-19T21:00:18.684593Z",
     "iopub.execute_input": "2024-02-19T21:00:18.685380Z",
     "iopub.status.idle": "2024-02-19T21:00:18.692854Z",
     "shell.execute_reply.started": "2024-02-19T21:00:18.685345Z",
     "shell.execute_reply": "2024-02-19T21:00:18.691764Z"
    },
    "trusted": true
   },
   "execution_count": null,
   "outputs": []
  },
  {
   "cell_type": "code",
   "source": [
    "def train_validation(model, train_dataloader, val_dataloader, loss_fn, optimizer, num_epochs=30, batch_size=8, threshold=0.5, early_stopping=5):\n",
    "    \"\"\"\n",
    "    Train and validation\n",
    "\n",
    "    Parameters:\n",
    "    model : The Siamese network model.\n",
    "    train_dataloader : DataLoader of training data.\n",
    "    val_dataloader : DataLoader of validation data.\n",
    "    loss_fn : Loss function.\n",
    "    optimizer: Optimizer for training.\n",
    "    num_epochs : Number of epochs for training.\n",
    "    batch_size : Batch size.\n",
    "    threshold : Threshold to decide between classes.\n",
    "    early_stopping:epochs to wait for improvement in val loss before early stopping.\n",
    "\n",
    "    outputs: 4 lists - training losses, training accuracies, validation losses, and validation accuracies\n",
    "    \"\"\"\n",
    "    train_losses = []\n",
    "    train_accuracies = []\n",
    "    val_losses = []\n",
    "    val_accuracies = []\n",
    "    best_val_loss = float('inf')\n",
    "    early_stopping_counter = 0\n",
    "\n",
    "    for epoch in range(num_epochs):\n",
    "        # Training\n",
    "        model.train()\n",
    "        total_train_loss = 0\n",
    "        for data in train_dataloader:\n",
    "            img1, img2, labels = data ##get items\n",
    "            img1, img2, labels = img1.to(device), img2.to(device), labels.to(device)##save for device\n",
    "\n",
    "            outputs = model(img1, img2)\n",
    "            loss = loss_fn(outputs.squeeze(), labels.squeeze())\n",
    "            optimizer.zero_grad()\n",
    "            loss.backward()\n",
    "            optimizer.step()\n",
    "            total_train_loss += loss.item()\n",
    "\n",
    "        avg_train_loss = total_train_loss / len(train_dataloader)\n",
    "        train_losses.append(avg_train_loss)\n",
    "        train_accuracy = calculate_accuracy(model, train_dataloader)\n",
    "        train_accuracies.append(train_accuracy)\n",
    "\n",
    "        # Validation\n",
    "        model.eval()\n",
    "        total_val_loss = 0\n",
    "        for data in val_dataloader:\n",
    "            img1, img2, labels = data##get items\n",
    "            img1, img2, labels = img1.to(device), img2.to(device), labels.to(device)##save for device\n",
    "            outputs = model(img1, img2)\n",
    "            loss = loss_fn(outputs.squeeze(), labels.squeeze())\n",
    "            total_val_loss += loss.item()\n",
    "\n",
    "        avg_val_loss = total_val_loss / len(val_dataloader)\n",
    "        val_losses.append(avg_val_loss)\n",
    "        val_accuracy = calculate_accuracy(model, val_dataloader)\n",
    "        val_accuracies.append(val_accuracy)\n",
    "\n",
    "        # Early stopping\n",
    "        if avg_val_loss < best_val_loss:\n",
    "            best_val_loss = avg_val_loss\n",
    "            early_stopping_counter = 0\n",
    "        else:\n",
    "            early_stopping_counter += 1\n",
    "\n",
    "        if early_stopping_counter >= early_stopping:\n",
    "            break\n",
    "\n",
    "    return train_losses, train_accuracies, val_losses, val_accuracies\n",
    "\n"
   ],
   "metadata": {
    "id": "mllFZuyKsbMU",
    "execution": {
     "iopub.status.busy": "2024-02-19T21:00:21.826740Z",
     "iopub.execute_input": "2024-02-19T21:00:21.827220Z",
     "iopub.status.idle": "2024-02-19T21:00:21.841178Z",
     "shell.execute_reply.started": "2024-02-19T21:00:21.827189Z",
     "shell.execute_reply": "2024-02-19T21:00:21.840190Z"
    },
    "trusted": true
   },
   "execution_count": null,
   "outputs": []
  },
  {
   "cell_type": "code",
   "source": [
    "##save result in csv\n",
    "def save_result(data):\n",
    "    results = 'results.csv'\n",
    "    if not os.path.exists(results):  # if the file does not exist -> create it\n",
    "        with open(results, mode='w', newline='') as file:\n",
    "            writer = csv.writer(file)\n",
    "            writer.writerow(['experiment_number', 'number_of_epochs', 'batch_size', 'learning_rate', 'batchnorm','dropout', 'train_loss', 'train_accuracy', 'validation_loss', 'validation_accuracy'])\n",
    "    df = pd.DataFrame([data], columns=['experiment_number', 'number_of_epochs', 'batch_size', 'learning_rate', 'batchnorm','dropout', 'train_loss', 'train_accuracy', 'validation_loss', 'validation_accuracy'])\n",
    "    df.to_csv(results, mode='a', index=False, header=False)"
   ],
   "metadata": {
    "id": "HpNTXcPYvhk-",
    "execution": {
     "iopub.status.busy": "2024-02-19T21:00:25.308480Z",
     "iopub.execute_input": "2024-02-19T21:00:25.309105Z",
     "iopub.status.idle": "2024-02-19T21:00:25.316172Z",
     "shell.execute_reply.started": "2024-02-19T21:00:25.309072Z",
     "shell.execute_reply": "2024-02-19T21:00:25.315005Z"
    },
    "trusted": true
   },
   "execution_count": null,
   "outputs": []
  },
  {
   "cell_type": "markdown",
   "source": [
    "**check basic network with and without batchnorm and dropout**"
   ],
   "metadata": {
    "id": "R1vqvSGG_Zth"
   }
  },
  {
   "cell_type": "code",
   "source": [
    "batch_size = 8\n",
    "epochs= 30\n",
    "lr = 1e-3\n",
    "loss_fn =  nn.BCELoss()\n",
    "train_loader = DataLoader(train_dataset, batch_size=batch_size, shuffle=True)\n",
    "val_loader = DataLoader(val_dataset, batch_size=batch_size, shuffle=True)\n",
    "i = 0\n",
    "for use_batchnorm, use_dropout  in itertools.product([True,False],[True,False]):\n",
    "    i+=1\n",
    "    model = SiameseNetwork(use_batchnorm, use_dropout).to(device)\n",
    "    model.apply(init_w_and_b)\n",
    "    optimizer = torch.optim.Adam(model.parameters(), lr=lr, weight_decay=1e-4)\n",
    "    train_losses, train_accuracies, val_losses, val_accuracies = train_validation(model, train_loader , val_loader, loss_fn, optimizer,epochs,batch_size)\n",
    "    save_result([i, epochs,batch_size, lr,use_batchnorm,use_dropout, train_losses[-1],  train_accuracies[-1],val_losses[-1],val_accuracies[-1]])\n",
    "    print([i, epochs,batch_size, lr, use_batchnorm,use_dropout, train_losses[-1],  train_accuracies[-1],val_losses[-1],val_accuracies[-1]])"
   ],
   "metadata": {
    "execution": {
     "iopub.status.busy": "2024-02-19T18:10:14.389868Z",
     "iopub.execute_input": "2024-02-19T18:10:14.390602Z",
     "iopub.status.idle": "2024-02-19T18:12:38.584090Z",
     "shell.execute_reply.started": "2024-02-19T18:10:14.390571Z",
     "shell.execute_reply": "2024-02-19T18:12:38.582041Z"
    },
    "trusted": true,
    "id": "Ft4Tq0f8ou8K"
   },
   "execution_count": null,
   "outputs": []
  },
  {
   "cell_type": "markdown",
   "source": [
    "Now, that we found out that the batchnorm improve the accuracy on the validation and the of dropout casued lower accuracy on the validation,\n",
    "we will try to check the netwrok with batchnorm and without dropout on different combination on hyperparameter"
   ],
   "metadata": {
    "id": "xXHRcpAgou8K"
   }
  },
  {
   "cell_type": "code",
   "source": [
    "def grid_search(optimizer_list, loss_fn_list,batch_size_list, lrs_list, early_stopping=5):\n",
    "    \"\"\"\n",
    "    Perform a grid search over hyperparameters to find the optimal configuration.\n",
    "\n",
    "    Parameters:\n",
    "        optimizer_list (list): List of optimizer names ('Adam', 'SGD').\n",
    "        loss_fn_list (list): List of loss function names ('BCELoss', 'MSELoss').\n",
    "        batch_size_list (list): List of batch sizes.\n",
    "        lrs_list (list): List of learning rates.\n",
    "        early_stopping (int): Number of epochs to wait for improvement in validation loss before early stopping. Default is 5.\n",
    "\n",
    "    Returns:\n",
    "        list: A list of dictionaries containing results for each hyperparameter combination.\n",
    "            Each dictionary includes information such as optimizer, loss function, batch size, learning rate,\n",
    "            training and validation losses, accuracies, convergence time, and whether early stopping occurred.\n",
    "    \"\"\"\n",
    "    results =[]\n",
    "    epochs = 30\n",
    "    for optimizer, loss_fn, batch_size, lr in itertools.product(optimizer_list, loss_fn_list, batch_size_list, lrs_list):\n",
    "        use_batchnorm = True\n",
    "        use_dropout= False\n",
    "        train_loader = DataLoader(train_dataset, batch_size=batch_size, shuffle=True)\n",
    "        val_loader = DataLoader(val_dataset, batch_size=batch_size, shuffle=True)\n",
    "        test_loader = DataLoader(test_dataset, batch_size=batch_size, shuffle=True)\n",
    "        model = SiameseNetwork(use_batchnorm, use_dropout).to(device)\n",
    "        model.apply(init_w_and_b)\n",
    "\n",
    "        # Set optimizer\n",
    "        if optimizer == 'Adam':\n",
    "            optimizer = torch.optim.Adam(model.parameters(), lr=lr, weight_decay=1e-4)\n",
    "        elif optimizer == 'SGD':\n",
    "            optimizer = torch.optim.SGD(model.parameters(), lr=lr, momentum=0.9)\n",
    "\n",
    "        # Set loss function\n",
    "        if loss_fn == 'BCELoss':\n",
    "            loss_fn = nn.BCELoss()\n",
    "        elif loss_fn == 'MSELoss':\n",
    "            loss_fn = nn.MSELoss()\n",
    "\n",
    "        # Train and validate\n",
    "        start_time = time.time()\n",
    "        train_losses, train_accuracies, val_losses, val_accuracies = train_validation(model, train_loader, val_loader, loss_fn, optimizer, epochs, batch_size, early_stopping=3)\n",
    "        end_time = time.time()\n",
    "        convergence_time = end_time - start_time\n",
    "        early_stopping_epochs = len(train_losses)\n",
    "        early_stopping = early_stopping_epochs < epochs\n",
    "\n",
    "        # Save results\n",
    "        result = {\n",
    "            'optimizer': optimizer.__class__.__name__,\n",
    "            'loss_fn': loss_fn.__class__.__name__,\n",
    "            'epochs': epochs if not early_stopping else early_stopping_epochs,\n",
    "            'early_stopping': early_stopping,\n",
    "            'batch_size': batch_size,\n",
    "            'lr': lr,\n",
    "            'train_losses': train_losses[-1],\n",
    "            'train_accuracy': train_accuracies[-1],\n",
    "            'val_losses': val_losses[-1],\n",
    "            'val_accuracy': val_accuracies[-1],\n",
    "            'convergence_time': convergence_time\n",
    "        }\n",
    "        results.append(result)\n",
    "        print(result)\n",
    "\n",
    "    return results"
   ],
   "metadata": {
    "id": "dDC2M85LuSqg",
    "execution": {
     "iopub.status.busy": "2024-02-19T18:08:10.696416Z",
     "iopub.status.idle": "2024-02-19T18:08:10.696869Z",
     "shell.execute_reply.started": "2024-02-19T18:08:10.696636Z",
     "shell.execute_reply": "2024-02-19T18:08:10.696656Z"
    },
    "trusted": true
   },
   "execution_count": null,
   "outputs": []
  },
  {
   "cell_type": "code",
   "source": [
    "# Define lists of parameters for grid search\n",
    "optimizer_list = ['Adam', 'SGD']\n",
    "loss_fn_list = ['BCELoss', 'MSELoss']\n",
    "batch_size_list = [8, 16]\n",
    "lrs_list= [1e-4, 1e-5, 1e-3]\n",
    "\n",
    "\n",
    "# Perform grid search\n",
    "grid_results = grid_search(optimizer_list, loss_fn_list, batch_size_list,lrs_list)\n",
    "\n",
    "def save_results_to_csv(results, filename):\n",
    "    with open(filename, 'w', newline='') as csvfile:\n",
    "        fieldnames = results[0].keys()\n",
    "        writer = csv.DictWriter(csvfile, fieldnames=fieldnames)\n",
    "        writer.writeheader()\n",
    "        for result in results:\n",
    "            writer.writerow(result)\n",
    "\n",
    "save_results_to_csv(grid_results, 'grid_search_results.csv')"
   ],
   "metadata": {
    "id": "5kki9A31GVCc",
    "execution": {
     "iopub.status.busy": "2024-02-19T18:08:10.698260Z",
     "iopub.status.idle": "2024-02-19T18:08:10.698576Z",
     "shell.execute_reply.started": "2024-02-19T18:08:10.698423Z",
     "shell.execute_reply": "2024-02-19T18:08:10.698436Z"
    },
    "trusted": true
   },
   "execution_count": null,
   "outputs": []
  },
  {
   "cell_type": "code",
   "source": [
    "def test_model(model, test_dataloader, loss_fn, threshold=0.5):\n",
    "    \"\"\"\n",
    "    Test the model.\n",
    "\n",
    "    Parameters:\n",
    "    model : The trained model.\n",
    "    test_dataloader: Dataloader containing test data.\n",
    "    loss_fn: Loss function.\n",
    "    threshold : Threshold to decide between classes.\n",
    "\n",
    "    Returns:\n",
    "    test_loss: The average test loss.\n",
    "    test_accuracy: The test accuracy.\n",
    "    \"\"\"\n",
    "    model.eval()\n",
    "    total_loss = 0\n",
    "    correct_indices = []\n",
    "    incorrect_indices = []\n",
    "\n",
    "    with torch.no_grad():\n",
    "        for batch_idx, data in enumerate(test_dataloader):\n",
    "            img1, img2, labels = data\n",
    "            img1, img2, labels = img1.to(device), img2.to(device), labels.to(device)\n",
    "            outputs = model(img1, img2)\n",
    "            loss = loss_fn(outputs.squeeze(), labels.squeeze())\n",
    "            total_loss += loss.item()\n",
    "\n",
    "    test_loss = total_loss / len(test_dataloader)\n",
    "    test_accuracy = calculate_accuracy(model, test_dataloader)\n",
    "\n",
    "    return test_loss, test_accuracy\n"
   ],
   "metadata": {
    "execution": {
     "iopub.status.busy": "2024-02-19T21:02:27.951071Z",
     "iopub.execute_input": "2024-02-19T21:02:27.951754Z",
     "iopub.status.idle": "2024-02-19T21:02:27.959537Z",
     "shell.execute_reply.started": "2024-02-19T21:02:27.951721Z",
     "shell.execute_reply": "2024-02-19T21:02:27.958586Z"
    },
    "trusted": true,
    "id": "7LM3NMu3ou8M"
   },
   "execution_count": null,
   "outputs": []
  },
  {
   "cell_type": "code",
   "source": [
    "sorted_results = sorted(grid_results, key=lambda x: x['val_accuracy'], reverse=True)\n",
    "best_params = sorted_results[0]\n",
    "print(best_params)\n",
    "optimizer,loss_fn,epochs,batch_size,lr = best_params['optimizer'],best_params['loss_fn'],best_params['epochs'],best_params['batch_size'],best_params['lr']\n"
   ],
   "metadata": {
    "execution": {
     "iopub.status.busy": "2024-02-19T21:00:45.657042Z",
     "iopub.execute_input": "2024-02-19T21:00:45.657387Z",
     "iopub.status.idle": "2024-02-19T21:00:45.697347Z",
     "shell.execute_reply.started": "2024-02-19T21:00:45.657362Z",
     "shell.execute_reply": "2024-02-19T21:00:45.695858Z"
    },
    "trusted": true,
    "id": "xAELUcHZou8M"
   },
   "execution_count": null,
   "outputs": []
  },
  {
   "cell_type": "markdown",
   "source": [
    "\n",
    "\n",
    "**According to the chosen parameters**"
   ],
   "metadata": {
    "id": "Cym7ttNlou8M"
   }
  },
  {
   "cell_type": "code",
   "source": [
    "# The chosen parameters\n",
    "batch_size = 16\n",
    "epochs = 30\n",
    "lr = 0.0001\n",
    "loss_fn = nn.BCELoss()\n",
    "optimizer = torch.optim.Adam(model.parameters(), lr=lr, weight_decay=1e-4)\n",
    "\n",
    "# Train the model based on the chosen parameters\n",
    "train_loader = DataLoader(train_dataset, batch_size=batch_size, shuffle=True)\n",
    "val_loader = DataLoader(val_dataset, batch_size=batch_size, shuffle=True)\n",
    "test_loader = DataLoader(test_dataset, shuffle=True)\n",
    "model = SiameseNetwork(True, False).to(device)\n",
    "model.apply(init_w_and_b)\n",
    "start_time = time.time()\n",
    "train_losses, train_accuracies, val_losses, val_accuracies = train_validation(model, train_loader , val_loader, loss_fn, optimizer,epochs,batch_size)\n",
    "end_time = time.time()-start_time\n",
    "test_loss, test_accuracy= test_model(model,test_loader,loss_fn)"
   ],
   "metadata": {
    "execution": {
     "iopub.status.busy": "2024-02-19T21:02:31.684710Z",
     "iopub.execute_input": "2024-02-19T21:02:31.685207Z",
     "iopub.status.idle": "2024-02-19T21:14:35.516073Z",
     "shell.execute_reply.started": "2024-02-19T21:02:31.685167Z",
     "shell.execute_reply": "2024-02-19T21:14:35.515034Z"
    },
    "trusted": true,
    "id": "dO0YkJ81ou8M"
   },
   "execution_count": null,
   "outputs": []
  },
  {
   "cell_type": "code",
   "source": [
    "# The loss of the validation set\n",
    "val_losses[-1]"
   ],
   "metadata": {
    "execution": {
     "iopub.status.busy": "2024-02-19T21:58:54.918252Z",
     "iopub.execute_input": "2024-02-19T21:58:54.918677Z",
     "iopub.status.idle": "2024-02-19T21:58:54.925445Z",
     "shell.execute_reply.started": "2024-02-19T21:58:54.918643Z",
     "shell.execute_reply": "2024-02-19T21:58:54.924318Z"
    },
    "trusted": true,
    "id": "ebtE-_rvou8N"
   },
   "execution_count": null,
   "outputs": []
  },
  {
   "cell_type": "code",
   "source": [
    "# The accuracy of the validation set\n",
    "val_accuracies[-1]"
   ],
   "metadata": {
    "execution": {
     "iopub.status.busy": "2024-02-19T21:59:01.419747Z",
     "iopub.execute_input": "2024-02-19T21:59:01.420603Z",
     "iopub.status.idle": "2024-02-19T21:59:01.429292Z",
     "shell.execute_reply.started": "2024-02-19T21:59:01.420562Z",
     "shell.execute_reply": "2024-02-19T21:59:01.428186Z"
    },
    "trusted": true,
    "id": "Uf7VXplWou8N"
   },
   "execution_count": null,
   "outputs": []
  },
  {
   "cell_type": "code",
   "source": [
    "print('convergence time : '+str(end_time))\n",
    "print('test loss : '+str(test_loss))\n",
    "print('test accuracy : '+str(test_accuracy))"
   ],
   "metadata": {
    "execution": {
     "iopub.status.busy": "2024-02-19T21:59:41.795152Z",
     "iopub.execute_input": "2024-02-19T21:59:41.796080Z",
     "iopub.status.idle": "2024-02-19T21:59:41.801476Z",
     "shell.execute_reply.started": "2024-02-19T21:59:41.796047Z",
     "shell.execute_reply": "2024-02-19T21:59:41.800486Z"
    },
    "trusted": true,
    "id": "y4NXxZmaou8O"
   },
   "execution_count": null,
   "outputs": []
  },
  {
   "cell_type": "code",
   "source": [
    "# Plotting the training and validation losses\n",
    "plt.plot(range(1, len(train_losses) + 1), train_losses, label='Training set', marker='o')\n",
    "plt.plot(range(1, len(val_losses) + 1), val_losses, label='Validation set', marker='o')\n",
    "\n",
    "plt.xlabel('Epoch')\n",
    "plt.ylabel('Loss')\n",
    "plt.title('Loss as function of epochs')\n",
    "plt.legend()\n",
    "plt.grid(True)\n",
    "plt.show()"
   ],
   "metadata": {
    "execution": {
     "iopub.status.busy": "2024-02-19T21:15:10.165568Z",
     "iopub.execute_input": "2024-02-19T21:15:10.165966Z",
     "iopub.status.idle": "2024-02-19T21:15:10.415858Z",
     "shell.execute_reply.started": "2024-02-19T21:15:10.165927Z",
     "shell.execute_reply": "2024-02-19T21:15:10.414868Z"
    },
    "trusted": true,
    "id": "UEmwbil4ou8O",
    "outputId": "4b419b41-5403-46d1-8030-2b8b5f193a39"
   },
   "execution_count": null,
   "outputs": [
    {
     "output_type": "display_data",
     "data": {
      "text/plain": "<Figure size 640x480 with 1 Axes>",
      "image/png": "[encoded data removed]"
     },
     "metadata": {}
    }
   ]
  },
  {
   "cell_type": "code",
   "source": [
    "# Plotting the training and validation accuracies\n",
    "plt.plot(range(1, len(train_accuracies) + 1), train_accuracies, label='Training set', marker='o')\n",
    "plt.plot(range(1, len(val_accuracies) + 1), val_accuracies, label='Validation set', marker='o')\n",
    "\n",
    "plt.xlabel('Epoch')\n",
    "plt.ylabel('Accuracy')\n",
    "plt.title('Accuracy as function of epochs')\n",
    "plt.legend()\n",
    "plt.grid(True)\n",
    "plt.show()"
   ],
   "metadata": {
    "execution": {
     "iopub.status.busy": "2024-02-19T21:15:15.415986Z",
     "iopub.execute_input": "2024-02-19T21:15:15.416366Z",
     "iopub.status.idle": "2024-02-19T21:15:15.709290Z",
     "shell.execute_reply.started": "2024-02-19T21:15:15.416337Z",
     "shell.execute_reply": "2024-02-19T21:15:15.708150Z"
    },
    "trusted": true,
    "id": "mPJkfA5lou8P",
    "outputId": "80d06615-ee4e-4afb-93f6-d2a956585fce"
   },
   "execution_count": null,
   "outputs": [
    {
     "output_type": "display_data",
     "data": {
      "text/plain": "<Figure size 640x480 with 1 Axes>",
      "image/png": "[encoded data removed]"
     },
     "metadata": {}
    }
   ]
  },
  {
   "cell_type": "code",
   "source": [
    "def predict(batch, model):\n",
    "    \"\"\"\n",
    "    Make predictions on a batch using the given model.\n",
    "\n",
    "    Parameters:\n",
    "        batch (tuple): A tuple containing image pairs and labels.\n",
    "        model (SiameseNetwork): The Siamese network model.\n",
    "\n",
    "    Returns:\n",
    "        tuple: predicted label, True/False if (pred_label == label), and predicted probability.\n",
    "    \"\"\"\n",
    "    img_1, img_2, label = batch\n",
    "    img_1 = img_1.to(device)\n",
    "    img_2 = img_2.to(device)\n",
    "    label = label.view(-1, 1).to(device)\n",
    "    prob = model(img_1, img_2)\n",
    "    pred_label = prob.round()\n",
    "    prob = prob.tolist()\n",
    "\n",
    "    return pred_label.tolist(), (pred_label == label).tolist(), prob[0][0]\n",
    "\n",
    "correct_predictions = []\n",
    "misclassified_predictions = []\n",
    "correct_count = 0\n",
    "misclassified_count = 0\n",
    "for i, pair in enumerate(test_loader):  # Iterate through the test loader\n",
    "    predicted_labels, is_accurate, prob = predict(pair, model)\n",
    "    for j, pred in enumerate(is_accurate):\n",
    "        pred = pred[0]\n",
    "        if pred == True: # Correct prediction\n",
    "            correct_predictions.append((i * test_loader.batch_size + j, prob))\n",
    "            correct_count += 1\n",
    "        else:  # Misclassified prediction\n",
    "            misclassified_predictions.append((i * test_loader.batch_size + j, predicted_labels[j], prob))\n",
    "            misclassified_count += 1\n",
    "        break\n",
    "\n"
   ],
   "metadata": {
    "execution": {
     "iopub.status.busy": "2024-02-19T21:22:26.399664Z",
     "iopub.execute_input": "2024-02-19T21:22:26.400568Z",
     "iopub.status.idle": "2024-02-19T21:22:34.366993Z",
     "shell.execute_reply.started": "2024-02-19T21:22:26.400534Z",
     "shell.execute_reply": "2024-02-19T21:22:34.366151Z"
    },
    "trusted": true,
    "id": "qmvMyhvfou8P"
   },
   "execution_count": null,
   "outputs": []
  },
  {
   "cell_type": "code",
   "source": [
    "# sort the lists based on the probabilities values\n",
    "correct_predictions = sorted(correct_predictions, key=lambda x: x[1], reverse=True)\n",
    "misclassified_predictions = sorted(misclassified_predictions, key=lambda x: x[2], reverse=True)"
   ],
   "metadata": {
    "execution": {
     "iopub.status.busy": "2024-02-19T21:22:39.739036Z",
     "iopub.execute_input": "2024-02-19T21:22:39.739917Z",
     "iopub.status.idle": "2024-02-19T21:22:39.745410Z",
     "shell.execute_reply.started": "2024-02-19T21:22:39.739875Z",
     "shell.execute_reply": "2024-02-19T21:22:39.744507Z"
    },
    "trusted": true,
    "id": "ciXTthMuou8P"
   },
   "execution_count": null,
   "outputs": []
  },
  {
   "cell_type": "code",
   "source": [
    "# Examples with accurate predictions\n",
    "print(\"Accurate Predictions:\")\n",
    "for index in correct_predictions[:3]:\n",
    "    index,prob = index\n",
    "    img_1_path = test_df.loc[index, 'image1']\n",
    "    img_2_path = test_df.loc[index, 'image2']\n",
    "    label = test_df.loc[index, 'label']\n",
    "    print(\"The probability: \",prob)\n",
    "    display_images([img_1_path, img_2_path], label)\n",
    "\n",
    "\n",
    "for index in correct_predictions[-2:]:\n",
    "    index,prob = index\n",
    "    img_1_path = test_df.loc[index, 'image1']\n",
    "    img_2_path = test_df.loc[index, 'image2']\n",
    "    label = test_df.loc[index, 'label']\n",
    "    print(\"The probability: \",prob)\n",
    "    display_images([img_1_path, img_2_path], label)"
   ],
   "metadata": {
    "execution": {
     "iopub.status.busy": "2024-02-19T21:36:29.364025Z",
     "iopub.execute_input": "2024-02-19T21:36:29.364503Z",
     "iopub.status.idle": "2024-02-19T21:36:30.367076Z",
     "shell.execute_reply.started": "2024-02-19T21:36:29.364472Z",
     "shell.execute_reply": "2024-02-19T21:36:30.366014Z"
    },
    "trusted": true,
    "id": "2r5t9nrKou8Q"
   },
   "execution_count": null,
   "outputs": []
  },
  {
   "cell_type": "code",
   "source": [
    "# Examples with misclassified predictions\n",
    "print(\"Misclassified Predictions:\")\n",
    "for index in misclassified_predictions[:2]:\n",
    "    index,pred_label,prob=index\n",
    "    img_1_path = test_df.loc[index, 'image1']\n",
    "    img_2_path = test_df.loc[index, 'image2']\n",
    "    label = int(pred_label[0])\n",
    "    print(\"The probability: \",prob)\n",
    "    display_images([img_1_path, img_2_path], label)\n",
    "\n",
    "\n",
    "for index in misclassified_predictions[-2:]:\n",
    "    index,pred_label,prob=index\n",
    "    img_1_path = test_df.loc[index, 'image1']\n",
    "    img_2_path = test_df.loc[index, 'image2']\n",
    "    label = int(pred_label[0])\n",
    "    print(\"The probability: \",prob)\n",
    "    display_images([img_1_path, img_2_path], label)\n"
   ],
   "metadata": {
    "execution": {
     "iopub.status.busy": "2024-02-19T21:51:00.825804Z",
     "iopub.execute_input": "2024-02-19T21:51:00.826550Z",
     "iopub.status.idle": "2024-02-19T21:51:01.655443Z",
     "shell.execute_reply.started": "2024-02-19T21:51:00.826514Z",
     "shell.execute_reply": "2024-02-19T21:51:01.654373Z"
    },
    "trusted": true,
    "id": "Xfl58dkHou8Q"
   },
   "execution_count": null,
   "outputs": []
  },
  {
   "cell_type": "markdown",
   "source": [
    "# **Visualizations:**"
   ],
   "metadata": {
    "id": "4DBu9X7pO9Bw"
   }
  },
  {
   "cell_type": "code",
   "source": [
    "import numpy as np\n",
    "import matplotlib.pyplot as plt\n",
    "\n",
    "#Droupout = True\n",
    "experiment_number = [1, 2, 3, 4]\n",
    "batchnorm = [True, True, False, False]\n",
    "dropout = [True, False, True, False]\n",
    "train_accuracy = [0.55, 0.69, 0.47, 0.504]\n",
    "validation_accuracy = [0.53, 0.64, 0.47, 0.509]\n",
    "\n",
    "# Filter data where dropout is True\n",
    "dropout_true_indices = [i for i, value in enumerate(dropout) if value]\n",
    "\n",
    "filtered_experiment_number = [experiment_number[i] for i in dropout_true_indices]\n",
    "filtered_batchnorm = [batchnorm[i] for i in dropout_true_indices]\n",
    "filtered_train_accuracy = [train_accuracy[i] for i in dropout_true_indices]\n",
    "filtered_validation_accuracy = [validation_accuracy[i] for i in dropout_true_indices]\n",
    "\n",
    "bar_width = 0.35\n",
    "\n",
    "plt.figure(figsize=(10, 6))\n",
    "\n",
    "bar_positions_train = np.arange(len(filtered_experiment_number))\n",
    "bar_positions_validation = bar_positions_train + bar_width\n",
    "\n",
    "# Create bar plot\n",
    "plt.bar(bar_positions_train, filtered_train_accuracy, width=bar_width, label='Train Accuracy', color='orange')\n",
    "plt.bar(bar_positions_validation, filtered_validation_accuracy, width=bar_width, label='Validation Accuracy', alpha=0.7, color='blue')\n",
    "\n",
    "\n",
    "for i, batchnorm_status in enumerate(filtered_batchnorm):\n",
    "    plt.text(bar_positions_train[i] + bar_width / 2, -0.05,\n",
    "             f'Batchnorm={batchnorm_status}', ha='center', va='bottom', color='red')\n",
    "\n",
    "# Display accuracy values above the bars in the middle\n",
    "for i, val in enumerate(filtered_train_accuracy):\n",
    "    plt.text(bar_positions_train[i] + bar_width / 2, val + 0.02, f'Train={val:.3f}', ha='right', va='bottom', color='black')\n",
    "for i, val in enumerate(filtered_validation_accuracy):\n",
    "    plt.text(bar_positions_validation[i] + bar_width / 2, val + 0.02, f'Validation={val:.3f}', ha='right', va='bottom', color='black')\n",
    "\n",
    "plt.xlabel('Batchnorm Status')\n",
    "plt.ylabel('Accuracy')\n",
    "plt.title('Accuracy for Experiments with Dropout=True')\n",
    "plt.xticks([])\n",
    "\n",
    "plt.legend(loc='upper left', bbox_to_anchor=(1, 1), fontsize='small')\n",
    "\n",
    "plt.show()"
   ],
   "metadata": {
    "id": "d_1vR4xCPDD3"
   },
   "execution_count": null,
   "outputs": []
  },
  {
   "cell_type": "code",
   "source": [
    "\n",
    "experiment_number = [1, 2, 3, 4]\n",
    "batchnorm = [True, True, False, False]\n",
    "dropout = [True, False, True, False]\n",
    "train_accuracy = [0.55, 0.69, 0.47, 0.504]\n",
    "validation_accuracy = [0.53, 0.64, 0.47, 0.509]\n",
    "\n",
    "#Dropout = False\n",
    "dropout_false_indices = [i for i, value in enumerate(dropout) if not value]\n",
    "\n",
    "\n",
    "filtered_experiment_number = [experiment_number[i] for i in dropout_false_indices]\n",
    "filtered_batchnorm = [batchnorm[i] for i in dropout_false_indices]\n",
    "filtered_train_accuracy = [train_accuracy[i] for i in dropout_false_indices]\n",
    "filtered_validation_accuracy = [validation_accuracy[i] for i in dropout_false_indices]\n",
    "\n",
    "\n",
    "bar_width = 0.35\n",
    "\n",
    "plt.figure(figsize=(10, 6))\n",
    "\n",
    "bar_positions_train = np.arange(len(filtered_experiment_number))\n",
    "bar_positions_validation = bar_positions_train + bar_width\n",
    "\n",
    "plt.bar(bar_positions_train, filtered_train_accuracy, width=bar_width, label='Train Accuracy', color='orange')\n",
    "plt.bar(bar_positions_validation, filtered_validation_accuracy, width=bar_width, label='Validation Accuracy', alpha=0.7, color='blue')\n",
    "\n",
    "for i, batchnorm_status in enumerate(filtered_batchnorm):\n",
    "    plt.text(bar_positions_train[i] + bar_width / 2, -0.05,\n",
    "             f'Batchnorm={batchnorm_status}', ha='center', va='bottom', color='red')\n",
    "\n",
    "for i, val in enumerate(filtered_train_accuracy):\n",
    "    plt.text(bar_positions_train[i] + bar_width / 2, val + 0.02, f'Train={val:.3f}', ha='right', va='bottom', color='black')\n",
    "for i, val in enumerate(filtered_validation_accuracy):\n",
    "    plt.text(bar_positions_validation[i] + bar_width / 2, val + 0.02, f'Validation={val:.3f}', ha='right', va='bottom', color='black')\n",
    "\n",
    "plt.xlabel('Batchnorm Status')\n",
    "plt.ylabel('Accuracy')\n",
    "plt.title('Accuracy for Experiments with Dropout=False')\n",
    "plt.xticks([])\n",
    "\n",
    "plt.legend(loc='upper left', bbox_to_anchor=(1, 1), fontsize='small')\n",
    "\n",
    "plt.show()"
   ],
   "metadata": {
    "id": "vJ8fpIeyPEtb"
   },
   "execution_count": null,
   "outputs": []
  },
  {
   "cell_type": "code",
   "source": [
    "\n",
    "#learning rates and batch sizes\n",
    "batch_sizes = [8, 8, 8, 16, 16, 16]\n",
    "learning_rates = [0.001, 0.0001, 0.00001]\n",
    "val_accuracies_8 = [0.584, 0.713, 0.74]\n",
    "val_accuracies_16 = [0.572, 0.768, 0.734]\n",
    "\n",
    "# Map batch sizes to colors\n",
    "color_dict = {8: 'blue', 16: 'orange'}\n",
    "\n",
    "plt.figure(figsize=(10, 6))\n",
    "\n",
    "bar_width = 0.35\n",
    "bar_positions = np.arange(len(learning_rates))\n",
    "\n",
    "# Plot bars for batch size 8\n",
    "plt.bar(\n",
    "    bar_positions - bar_width / 2,\n",
    "    val_accuracies_8,\n",
    "    width=bar_width,\n",
    "    color=[color_dict[8] for _ in val_accuracies_8],\n",
    "    label='Batch Size: 8',\n",
    "    alpha=0.7\n",
    ")\n",
    "\n",
    "# Plot bars for batch size 16\n",
    "plt.bar(\n",
    "    bar_positions + bar_width / 2,\n",
    "    val_accuracies_16,\n",
    "    width=bar_width,\n",
    "    color=[color_dict[16] for _ in val_accuracies_16],\n",
    "    label='Batch Size: 16',\n",
    "    alpha=0.7\n",
    ")\n",
    "\n",
    "for i, val in enumerate(val_accuracies_8):\n",
    "    plt.text(\n",
    "        bar_positions[i] - bar_width / 2,\n",
    "        val + 0.02,\n",
    "        f'{val:.3f}',\n",
    "        ha='center',\n",
    "        va='bottom',\n",
    "        color='black'\n",
    "    )\n",
    "\n",
    "for i, val in enumerate(val_accuracies_16):\n",
    "    plt.text(\n",
    "        bar_positions[i] + bar_width / 2,\n",
    "        val + 0.02,\n",
    "        f'{val:.3f}',\n",
    "        ha='center',\n",
    "        va='bottom',\n",
    "        color='black'\n",
    "    )\n",
    "\n",
    "plt.title('Validation Accuracy Comparison for Different Learning Rates and Batch Sizes')\n",
    "plt.xlabel('Learning Rates')\n",
    "plt.ylabel('Accuracy')\n",
    "plt.xticks(bar_positions, [f'{lr:g}' for lr in learning_rates])\n",
    "\n",
    "legend_labels = [plt.Line2D([0], [0], marker='o', color='w', markerfacecolor=color, markersize=10, label=f'Batch Size: {bs}') for bs, color in color_dict.items()]\n",
    "plt.legend(handles=legend_labels)\n",
    "\n",
    "plt.show()"
   ],
   "metadata": {
    "id": "uVof3-XYPb2s"
   },
   "execution_count": null,
   "outputs": []
  },
  {
   "cell_type": "code",
   "source": [
    "#Oprimziers and Loss fucntions\n",
    "val_accuracies_adam_bce = 0.768\n",
    "val_accuracies_adam_mse = 0.711\n",
    "val_accuracies_sgd_bce = 0.734\n",
    "val_accuracies_sgd_mse = 0.752\n",
    "\n",
    "\n",
    "plt.figure(figsize=(8, 5))\n",
    "\n",
    "bar_width = 0.35\n",
    "index = np.arange(2)\n",
    "\n",
    "# Bar plot for ADAM\n",
    "adam_bars = plt.bar(index, [val_accuracies_adam_bce, val_accuracies_adam_mse], width=bar_width, label='ADAM', color='blue',alpha=0.7)\n",
    "\n",
    "# Bar plot for SGD\n",
    "sgd_bars = plt.bar(index + bar_width, [val_accuracies_sgd_bce, val_accuracies_sgd_mse], width=bar_width, label='SGD', color='orange')\n",
    "\n",
    "# Set X-axis labels\n",
    "plt.xticks(index + bar_width / 2, ['BCELoss', 'MSELoss'])\n",
    "\n",
    "for bar in adam_bars:\n",
    "    plt.text(bar.get_x() + bar.get_width() / 2 - 0.15, bar.get_height() + 0.01, f'{bar.get_height():.3f}', ha='left', va='bottom', color='black')\n",
    "\n",
    "for bar in sgd_bars:\n",
    "    plt.text(bar.get_x() + bar.get_width() / 2 - 0.15, bar.get_height() + 0.01, f'{bar.get_height():.3f}', ha='left', va='bottom', color='black')\n",
    "\n",
    "plt.ylabel('Validation Accuracy')\n",
    "plt.title('Validation Accuracy Comparison')\n",
    "plt.legend(loc='upper left', bbox_to_anchor=(1, 1), fontsize='small')\n",
    "plt.show()"
   ],
   "metadata": {
    "id": "kNoRw5J4PruI"
   },
   "execution_count": null,
   "outputs": []
  }
 ]
}
